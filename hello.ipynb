{
 "cells": [
  {
   "cell_type": "code",
   "execution_count": 1,
   "id": "c5428818",
   "metadata": {},
   "outputs": [
    {
     "name": "stdout",
     "output_type": "stream",
     "text": [
      "✅ Transformed CSV saved as: transformed_testData.csv\n"
     ]
    }
   ],
   "source": [
    "import pandas as pd\n",
    "from sklearn.preprocessing import LabelEncoder\n",
    "\n",
    "# Load the original CSV\n",
    "df = pd.read_csv(\"testData.csv\")\n",
    "\n",
    "# Create a copy of the original dataframe to transform\n",
    "df_transformed = df.copy()\n",
    "\n",
    "# Identify categorical columns\n",
    "categorical_cols = df_transformed.select_dtypes(include=['object']).columns\n",
    "\n",
    "# Apply Label Encoding to each categorical column\n",
    "for col in categorical_cols:\n",
    "    le = LabelEncoder()\n",
    "    df_transformed[col] = df_transformed[col].astype(str)  # in case there are NaNs\n",
    "    df_transformed[col] = le.fit_transform(df_transformed[col])\n",
    "\n",
    "# Save the transformed file\n",
    "df_transformed.to_csv(\"transformed_testData.csv\", index=False)\n",
    "\n",
    "print(\"✅ Transformed CSV saved as: transformed_testData.csv\")\n"
   ]
  }
 ],
 "metadata": {
  "kernelspec": {
   "display_name": "Python 3",
   "language": "python",
   "name": "python3"
  },
  "language_info": {
   "codemirror_mode": {
    "name": "ipython",
    "version": 3
   },
   "file_extension": ".py",
   "mimetype": "text/x-python",
   "name": "python",
   "nbconvert_exporter": "python",
   "pygments_lexer": "ipython3",
   "version": "3.13.0"
  }
 },
 "nbformat": 4,
 "nbformat_minor": 5
}
